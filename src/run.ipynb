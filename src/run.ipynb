{
 "cells": [
  {
   "cell_type": "code",
   "execution_count": 2,
   "id": "097688f9-080a-41ca-9491-c3e769734889",
   "metadata": {},
   "outputs": [],
   "source": [
    "import copy\n",
    "\n",
    "import numpy as np\n",
    "import os\n",
    "import pandas as pd\n",
    "import usaddress\n",
    "import re\n",
    "from nameparser import HumanName\n",
    "import traceback"
   ]
  },
  {
   "cell_type": "markdown",
   "id": "d94fb635-b907-49c0-984a-c366ab823d69",
   "metadata": {},
   "source": [
    "### Execute necessary functions"
   ]
  },
  {
   "cell_type": "code",
   "execution_count": 650,
   "id": "3cdbdb7e-b7b3-4abd-a1c3-f827b43a7c8c",
   "metadata": {},
   "outputs": [],
   "source": [
    "def get_inputs(col_name):\n",
    "\n",
    "    return_col_name = inputs[inputs.county == county.replace(\"_\", \" \")][col_name].iloc[\n",
    "        0\n",
    "    ]\n",
    "\n",
    "    return return_col_name"
   ]
  },
  {
   "cell_type": "code",
   "execution_count": 651,
   "id": "f77bc24c-f23a-42df-8e5a-ec3ba36ad943",
   "metadata": {},
   "outputs": [],
   "source": [
    "%run helper_functions/clean_address.ipynb\n",
    "%run helper_functions/clean_deed.ipynb\n",
    "%run helper_functions/clean_owner_column.ipynb\n",
    "%run helper_functions/get_most_recent_address.ipynb\n",
    "%run helper_functions/get_chosen_owner_name.ipynb\n",
    "%run helper_functions/calculations.ipynb\n",
    "%run helper_functions/clean_co_trust.ipynb\n",
    "%run helper_functions/manual_review_flags.ipynb"
   ]
  },
  {
   "cell_type": "markdown",
   "id": "99443e00-9e2e-4617-a570-5bb4b3d23eb3",
   "metadata": {},
   "source": [
    "### Read in input data"
   ]
  },
  {
   "cell_type": "code",
   "execution_count": 3,
   "id": "c10f2f72-dd20-49f5-b01b-8c7dcba92954",
   "metadata": {},
   "outputs": [],
   "source": [
    "inputs = pd.read_csv(\"inputs/function_sheet.csv\")"
   ]
  },
  {
   "cell_type": "code",
   "execution_count": 653,
   "id": "13b8538e-59c8-406b-9237-55f3153182de",
   "metadata": {},
   "outputs": [],
   "source": [
    "trust_filter = [\n",
    "    x.lower()\n",
    "    for x in pd.read_csv(\"inputs/trust_filter_list.csv\")[\"term\"].to_list()\n",
    "]"
   ]
  },
  {
   "cell_type": "code",
   "execution_count": 654,
   "id": "9bee483f-d791-4bad-a19e-6eb5e3af56ce",
   "metadata": {},
   "outputs": [],
   "source": [
    "owner_name_filter = [\n",
    "    x.lower()\n",
    "    for x in pd.read_csv(\"inputs/owner_name_filter_list.csv\")[\n",
    "        \"term\"\n",
    "    ].to_list()\n",
    "]"
   ]
  },
  {
   "cell_type": "code",
   "execution_count": 655,
   "id": "9c5de617-e94f-4493-a6a3-3ea5edd0414b",
   "metadata": {},
   "outputs": [],
   "source": [
    "co_filter = [\n",
    "    x.lower()\n",
    "    for x in pd.read_csv(\"inputs/co_filter_list.csv\")[\"term\"].to_list()\n",
    "]"
   ]
  },
  {
   "cell_type": "markdown",
   "id": "06cae2c7-ec98-4af5-81d3-de3ba80e08ae",
   "metadata": {},
   "source": [
    "### Create folders for counties if it does not already exist"
   ]
  },
  {
   "cell_type": "code",
   "execution_count": 656,
   "id": "e7ff3cf1-4eeb-4476-9d11-55ee5377e82b",
   "metadata": {},
   "outputs": [],
   "source": [
    "counties = inputs.county.to_list()"
   ]
  },
  {
   "cell_type": "code",
   "execution_count": 657,
   "id": "4e74683d-f90b-4045-9939-d6031e15628c",
   "metadata": {},
   "outputs": [],
   "source": [
    "for folder in counties:\n",
    "    full_path = os.path.join(\"../../../Dropbox/Files/\",folder.replace(\" \", \"_\"))\n",
    "    if not os.path.exists(full_path):\n",
    "        os.mkdir(full_path)"
   ]
  },
  {
   "cell_type": "markdown",
   "id": "5847aa15-d838-4dd3-8ae7-d5143bc2ee1f",
   "metadata": {},
   "source": [
    "### Run all functions"
   ]
  },
  {
   "cell_type": "code",
   "execution_count": null,
   "id": "b516925f-eabf-4606-8dbe-22e50df5258b",
   "metadata": {},
   "outputs": [],
   "source": [
    "with open(\"error_log.txt\", \"w\") as log:\n",
    "    \n",
    "    for i in counties:    \n",
    "        county = i.replace(\" \", \"_\")\n",
    "        \n",
    "        try:\n",
    "            %run all_functions.ipynb\n",
    "            \n",
    "        except:\n",
    "            traceback.print_exc(file=log)"
   ]
  }
 ],
 "metadata": {
  "kernelspec": {
   "display_name": "Python 3 (ipykernel)",
   "language": "python",
   "name": "python3"
  },
  "language_info": {
   "codemirror_mode": {
    "name": "ipython",
    "version": 3
   },
   "file_extension": ".py",
   "mimetype": "text/x-python",
   "name": "python",
   "nbconvert_exporter": "python",
   "pygments_lexer": "ipython3",
   "version": "3.10.8"
  }
 },
 "nbformat": 4,
 "nbformat_minor": 5
}
