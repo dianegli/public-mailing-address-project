{
 "cells": [
  {
   "cell_type": "markdown",
   "id": "65980851-49ba-40b1-8e93-71965033c094",
   "metadata": {},
   "source": [
    "### Get parameters"
   ]
  },
  {
   "cell_type": "code",
   "execution_count": null,
   "id": "09796704-a46c-4dc0-b96a-df81911f6c95",
   "metadata": {
    "tags": []
   },
   "outputs": [],
   "source": [
    "acre = get_inputs(\"acre\")\n",
    "improvement = get_inputs(\"improvement\").split(\",\")\n",
    "deed = get_inputs(\"deed\")\n",
    "owner_name = get_inputs(\"owner_name\")\n",
    "address = get_inputs(\"address\").split(\",\")"
   ]
  },
  {
   "cell_type": "markdown",
   "id": "f7957076-1cc9-40da-990b-a133dee98732",
   "metadata": {
    "tags": []
   },
   "source": [
    "### Read in data"
   ]
  },
  {
   "cell_type": "code",
   "execution_count": null,
   "id": "3db32630-f3d8-49bc-946c-678d555786f3",
   "metadata": {
    "tags": []
   },
   "outputs": [],
   "source": [
    "# Make sure address columns are read in as string\n",
    "\n",
    "dict_dtypes = {x: \"str\" for x in address}"
   ]
  },
  {
   "cell_type": "code",
   "execution_count": null,
   "id": "29940edb-6fbb-4b06-947a-690cc9989111",
   "metadata": {
    "tags": []
   },
   "outputs": [],
   "source": [
    "df_raw = pd.read_csv(\n",
    "    f\"../../../Dropbox/Raw Data/{county}_id_raw.csv\", dtype=dict_dtypes, low_memory=False\n",
    ")\n",
    "df_raw.reset_index(inplace=True)"
   ]
  },
  {
   "cell_type": "code",
   "execution_count": null,
   "id": "5469f0bd-97ca-44e1-b8a0-c9c2800f7368",
   "metadata": {
    "tags": []
   },
   "outputs": [],
   "source": [
    "# Make a record id column\n",
    "\n",
    "df_raw[\"record_id\"] = county + \"_\" + df_raw[\"index\"].astype(\"str\")\n",
    "df_raw.drop([\"index\"], axis=1, inplace=True)"
   ]
  },
  {
   "cell_type": "code",
   "execution_count": null,
   "id": "60f645b0-36a2-4121-9b39-237c7f8eace5",
   "metadata": {
    "tags": []
   },
   "outputs": [],
   "source": [
    "# Create a copy of the raw file\n",
    "\n",
    "df = df_raw.copy(deep=True)"
   ]
  },
  {
   "cell_type": "markdown",
   "id": "9804e69a-688f-40bc-912a-6ed585ac9682",
   "metadata": {
    "tags": []
   },
   "source": [
    "### Start functions"
   ]
  },
  {
   "cell_type": "code",
   "execution_count": null,
   "id": "e1cfabee-e214-4a78-bb9f-bcfdba2bd795",
   "metadata": {
    "tags": []
   },
   "outputs": [],
   "source": [
    "# Keep any land with 0 acres or greater than or equal to 0.06 acres\n",
    "\n",
    "df = filter_acres(df, acre)"
   ]
  },
  {
   "cell_type": "code",
   "execution_count": null,
   "id": "e12ba789-facc-4740-897b-f5e96ed60f59",
   "metadata": {
    "tags": []
   },
   "outputs": [],
   "source": [
    "df = flag_owner_with_improvements(df, improvement, owner_name)"
   ]
  },
  {
   "cell_type": "code",
   "execution_count": null,
   "id": "e8d67c85-13f5-4a7c-9a11-29fe1cb0c2f8",
   "metadata": {
    "tags": []
   },
   "outputs": [],
   "source": [
    "# For now, remove the people who had any property with improvements\n",
    "\n",
    "# df = df[df.owner_with_improvement != 1].reset_index(drop=True)"
   ]
  },
  {
   "cell_type": "code",
   "execution_count": null,
   "id": "d9262d9e-c026-4398-84f2-915cd3cb516f",
   "metadata": {
    "tags": []
   },
   "outputs": [],
   "source": [
    "# Remove all rows associated with improvements, just keep the market value of 0\n",
    "\n",
    "df = df[df[improvement].sum(axis=1) == 0].reset_index(drop=True)"
   ]
  },
  {
   "cell_type": "markdown",
   "id": "d2579d91-34de-4afe-9059-1c7fc0d128a1",
   "metadata": {},
   "source": [
    "#### Fix owner name\n"
   ]
  },
  {
   "cell_type": "code",
   "execution_count": null,
   "id": "3e823558-ce3d-4b04-846d-1e940fedc093",
   "metadata": {
    "tags": []
   },
   "outputs": [],
   "source": [
    "df = remove_owner_name_blank(df, owner_name)"
   ]
  },
  {
   "cell_type": "code",
   "execution_count": null,
   "id": "f091043b-96ef-4d2b-9cba-7b7100c0a8c8",
   "metadata": {
    "tags": []
   },
   "outputs": [],
   "source": [
    "df = flag_trust_co_columns(df, owner_name, address, trust_filter, co_filter)"
   ]
  },
  {
   "cell_type": "code",
   "execution_count": null,
   "id": "a127ec47-185c-43d7-afc9-1071bfbdcce0",
   "metadata": {
    "tags": []
   },
   "outputs": [],
   "source": [
    "before = len(df)\n",
    "\n",
    "df = clean_trust_co_columns(df, co_filter, owner_name, address)\n",
    "\n",
    "after = len(df)\n",
    "\n",
    "print(\n",
    "    f\"co/trustee function working for {county}\"\n",
    "    if before == after\n",
    "    else f\"error in co/trustee function for {county}\"\n",
    ")"
   ]
  },
  {
   "cell_type": "code",
   "execution_count": null,
   "id": "d738f938-3970-4c39-9921-7d95b3f342bb",
   "metadata": {},
   "outputs": [],
   "source": [
    "# Get the final address combining both the original address/name columns with the adjusted columns\n",
    "\n",
    "for i in address:\n",
    "\n",
    "    df[i + \"_final\"] = df[i + \"_adj\"].fillna(df[i])\n",
    "\n",
    "    # Specifically remove the values of \"Remove\" and replace with np.nan\n",
    "\n",
    "    df[i + \"_final\"] = np.where(df[i + \"_final\"] == \"Remove\", np.nan, df[i + \"_final\"])\n",
    "\n",
    "df[owner_name + \"_final\"] = df[owner_name + \"_adj\"].fillna(df[owner_name])"
   ]
  },
  {
   "cell_type": "code",
   "execution_count": null,
   "id": "2d245511-bbef-4789-b89c-09144fccbd29",
   "metadata": {},
   "outputs": [],
   "source": [
    "# Get list of columns for the adjusted ownername and addresses\n",
    "\n",
    "owner_name_final = owner_name + \"_final\"\n",
    "address_final = [x + \"_final\" for x in address]"
   ]
  },
  {
   "cell_type": "code",
   "execution_count": null,
   "id": "68684e11-6e57-402c-afa9-3323c840cc5e",
   "metadata": {},
   "outputs": [],
   "source": [
    "# Use original owner name column to filter down the list of rows that we want\n",
    "\n",
    "df = remove_owner_name_filter_items(df, owner_name, owner_name_final, owner_name_filter)"
   ]
  },
  {
   "cell_type": "markdown",
   "id": "56793a8f-2b3f-4bc7-b3e8-f397e3a55a01",
   "metadata": {},
   "source": [
    "#### Clean data - Deed column"
   ]
  },
  {
   "cell_type": "code",
   "execution_count": null,
   "id": "75ee5434-e12c-4c21-bf1d-73740973f2c2",
   "metadata": {},
   "outputs": [],
   "source": [
    "df = clean_deed(df, deed)"
   ]
  },
  {
   "cell_type": "markdown",
   "id": "408de378-ae15-4215-8a96-b2c302b700ef",
   "metadata": {},
   "source": [
    "#### Create distinct address to name mapping\n",
    "\n",
    "- Choose one name per address"
   ]
  },
  {
   "cell_type": "code",
   "execution_count": null,
   "id": "a22b0b9f-243f-4ef7-b83f-5b62f0194eae",
   "metadata": {},
   "outputs": [],
   "source": [
    "# Create address to process\n",
    "\n",
    "df = create_address_to_process(df, address_final)\n",
    "\n",
    "# Create address combined for raw file for reference\n",
    "\n",
    "df[\"raw_address_combined\"] = df[address].fillna(\"\").agg(\", \".join, axis=1)"
   ]
  },
  {
   "cell_type": "code",
   "execution_count": null,
   "id": "7838c5af-84f7-43d9-addd-12edb2f2ab91",
   "metadata": {},
   "outputs": [],
   "source": [
    "# Create an address to name mapping table\n",
    "\n",
    "address_owner_name_table_ = address_owner_name_table(df, owner_name_final)"
   ]
  },
  {
   "cell_type": "code",
   "execution_count": null,
   "id": "cf580ac7-6dc9-4187-b7a6-71db8f68085c",
   "metadata": {},
   "outputs": [],
   "source": [
    "# Merge mapped chosen owner name back to the original dataset\n",
    "# --> group by address, choose one owner only by deed year (x)\n",
    "\n",
    "df = merge_chosen_owner_name(df, address_owner_name_table_)"
   ]
  },
  {
   "cell_type": "markdown",
   "id": "c5919bb3-f8a4-4201-83fc-d6848ab3f71b",
   "metadata": {},
   "source": [
    "#### Choose most recent address for an owner name\n",
    "\n",
    "- Get most recent address for an owner name"
   ]
  },
  {
   "cell_type": "code",
   "execution_count": null,
   "id": "21168ecc-4f80-48c3-8fee-f856eb4c0c5b",
   "metadata": {},
   "outputs": [],
   "source": [
    "df = most_recent_address_table(df)"
   ]
  },
  {
   "cell_type": "markdown",
   "id": "ea82dd3c-6de4-458c-b500-1d3ed22f54cd",
   "metadata": {},
   "source": [
    "#### Create a table of number of properties owned by owner name so we can exclude the ones over 7"
   ]
  },
  {
   "cell_type": "code",
   "execution_count": null,
   "id": "b852b446-d838-4e2d-88f9-c31217800057",
   "metadata": {},
   "outputs": [],
   "source": [
    "df = filter_parcels(df)"
   ]
  },
  {
   "cell_type": "markdown",
   "id": "75a6ec2c-a43d-425a-ae09-cf483d3474c3",
   "metadata": {},
   "source": [
    "#### Format names"
   ]
  },
  {
   "cell_type": "code",
   "execution_count": null,
   "id": "d34021a2-7bdb-463c-a2f9-fa947db82c95",
   "metadata": {},
   "outputs": [],
   "source": [
    "df = clean_owner_name(df)"
   ]
  },
  {
   "cell_type": "markdown",
   "id": "f16f85c7-8f03-4de7-b95e-a439baeb2838",
   "metadata": {},
   "source": [
    "#### Format addresses"
   ]
  },
  {
   "cell_type": "code",
   "execution_count": null,
   "id": "a9ec229e-cd35-4f1e-a025-624ac12902c4",
   "metadata": {},
   "outputs": [],
   "source": [
    "df = clean_address_to_process(df)"
   ]
  },
  {
   "cell_type": "markdown",
   "id": "9056cd0e-4fdc-4cb3-bde8-8b6523af5ae1",
   "metadata": {},
   "source": [
    "#### Create flags for potential name/address issues for manual review"
   ]
  },
  {
   "cell_type": "code",
   "execution_count": null,
   "id": "3842b1c0-71a6-47d7-b025-64e46c5f4c0f",
   "metadata": {},
   "outputs": [],
   "source": [
    "df = address_issue(df)"
   ]
  },
  {
   "cell_type": "code",
   "execution_count": null,
   "id": "2ab1ff43-26b1-4850-8408-67d73abe6d9e",
   "metadata": {},
   "outputs": [],
   "source": [
    "df = owner_name_issue(df)"
   ]
  },
  {
   "cell_type": "code",
   "execution_count": null,
   "id": "f24ae167-9a36-4005-bafa-0bfa8a22db3c",
   "metadata": {},
   "outputs": [],
   "source": [
    "df = trustee_co_issue(df)"
   ]
  },
  {
   "cell_type": "code",
   "execution_count": null,
   "id": "9ff1a9e3-d9e3-42ad-b17e-4de6a9f6bb60",
   "metadata": {},
   "outputs": [],
   "source": [
    "# Get total number of issues\n",
    "\n",
    "df[\"n_issues\"] = df[\"address_issue\"] + df[\"owner_name_issue\"] + df[\"trustee_co_issue\"]"
   ]
  },
  {
   "cell_type": "markdown",
   "id": "c2881d9b-6357-40bd-a410-8782cb0365f2",
   "metadata": {},
   "source": [
    "#### Export data"
   ]
  },
  {
   "cell_type": "code",
   "execution_count": null,
   "id": "bceb98f1-2b5a-4d75-aeae-639e32b3ae20",
   "metadata": {},
   "outputs": [],
   "source": [
    "# Mailing list\n",
    "\n",
    "df[df.mailing_address_flag == 1][\n",
    "    [\n",
    "        \"chosen_record_id\",\n",
    "        owner_name,\n",
    "        \"chosen_owner_name\",\n",
    "        \"chosen_owner_name_to_process\",\n",
    "        \"raw_address_combined\",\n",
    "        \"address_to_process\",\n",
    "        \"chosen_owner_with_improvement\",\n",
    "        \"n_parcels\",\n",
    "        \"full_name\",\n",
    "        \"first_name\",\n",
    "        \"last_name\",\n",
    "        \"address\",\n",
    "        \"city\",\n",
    "        \"state\",\n",
    "        \"zip\",\n",
    "        \"address_issue\",\n",
    "        \"owner_name_issue\",\n",
    "        \"trustee_co_issue\",\n",
    "        \"n_issues\",\n",
    "    ]\n",
    "].sort_values(\n",
    "    [\"n_issues\", \"address_issue\", \"owner_name_issue\", \"trustee_co_issue\"],\n",
    "    ascending=False,\n",
    ").reset_index(\n",
    "    drop=True\n",
    ").to_csv(\n",
    "    f\"../../../Dropbox/Files/{county}/mailing_list.csv\", index=False\n",
    ")"
   ]
  },
  {
   "cell_type": "code",
   "execution_count": null,
   "id": "b0a11d7d-830f-4ed0-bf6f-b98a2ba8f699",
   "metadata": {},
   "outputs": [],
   "source": [
    "# Raw data, cleaned to included rows with cleaning columns and ids\n",
    "\n",
    "df.sort_values(\n",
    "    [\"n_issues\", \"address_issue\", \"owner_name_issue\", \"trustee_co_issue\"],\n",
    "    ascending=False,\n",
    ").reset_index(drop=True).to_csv(\n",
    "    f\"../../../Dropbox/Files/{county}/raw_cleaned_with_id.csv\",\n",
    "    index=False,\n",
    ")"
   ]
  },
  {
   "cell_type": "code",
   "execution_count": null,
   "id": "d4356cea-566c-41a6-b97c-a5357aeeefd3",
   "metadata": {},
   "outputs": [],
   "source": [
    "# Mailing list owners, merged with raw file\n",
    "\n",
    "df_raw.merge(df[[\"record_id\", \"chosen_record_id\"]], on=\"record_id\", how=\"left\").to_csv(\n",
    "    f\"../../../Dropbox/Files/{county}/raw_with_id.csv\", index=False\n",
    ")"
   ]
  }
 ],
 "metadata": {
  "kernelspec": {
   "display_name": "Python 3 (ipykernel)",
   "language": "python",
   "name": "python3"
  },
  "language_info": {
   "codemirror_mode": {
    "name": "ipython",
    "version": 3
   },
   "file_extension": ".py",
   "mimetype": "text/x-python",
   "name": "python",
   "nbconvert_exporter": "python",
   "pygments_lexer": "ipython3",
   "version": "3.10.8"
  }
 },
 "nbformat": 4,
 "nbformat_minor": 5
}
