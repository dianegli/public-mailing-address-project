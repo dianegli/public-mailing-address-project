{
 "cells": [
  {
   "cell_type": "code",
   "execution_count": null,
   "id": "69d39b31-a048-447d-9df9-2bdc1cb33178",
   "metadata": {},
   "outputs": [],
   "source": [
    "def filter_acres(df,acre):\n",
    "    \n",
    "    df = df[(df[acre] == 0) | (df[acre] >= 1)].reset_index(drop=True)\n",
    "    \n",
    "    return df"
   ]
  },
  {
   "cell_type": "code",
   "execution_count": 3,
   "id": "00fae836-6cce-426a-b86f-675e3fe54f45",
   "metadata": {},
   "outputs": [],
   "source": [
    "def filter_parcels(df):\n",
    "    \n",
    "    df[\"n_parcels\"] = df.groupby([\"chosen_owner_name\"])[\"record_id\"].transform(\"count\")\n",
    "    \n",
    "    df = df[df.n_parcels < 20].reset_index(drop=True)\n",
    "        \n",
    "    return df"
   ]
  }
 ],
 "metadata": {
  "kernelspec": {
   "display_name": "Python 3 (ipykernel)",
   "language": "python",
   "name": "python3"
  },
  "language_info": {
   "codemirror_mode": {
    "name": "ipython",
    "version": 3
   },
   "file_extension": ".py",
   "mimetype": "text/x-python",
   "name": "python",
   "nbconvert_exporter": "python",
   "pygments_lexer": "ipython3",
   "version": "3.10.8"
  }
 },
 "nbformat": 4,
 "nbformat_minor": 5
}
