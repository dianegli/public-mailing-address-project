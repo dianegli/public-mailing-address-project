{
 "cells": [
  {
   "cell_type": "code",
   "execution_count": 1,
   "id": "4f415adc-e159-46ff-be82-7163100b1faf",
   "metadata": {},
   "outputs": [],
   "source": [
    "def flag_owner_with_improvements(df, improvement, owner_name):\n",
    "\n",
    "    improvement_list = (\n",
    "        df[df[improvement].sum(axis=1) > 0][owner_name]\n",
    "        .drop_duplicates()\n",
    "        .reset_index(drop=True)\n",
    "        .to_list()\n",
    "    )\n",
    "\n",
    "    df[\"owner_with_improvement\"] = np.where(df[owner_name].isin(improvement_list), 1, 0)\n",
    "\n",
    "    return df"
   ]
  },
  {
   "cell_type": "code",
   "execution_count": null,
   "id": "8a017ea7-6435-4c04-97d1-678bac76c74e",
   "metadata": {},
   "outputs": [],
   "source": [
    "def remove_owner_name_blank(df, owner_name_col):\n",
    "\n",
    "    df[\"owner_name_blank_removed\"] = df[owner_name_col].replace(\n",
    "        r\"^\\s*$\", np.nan, regex=True\n",
    "    )\n",
    "\n",
    "    df = df[~df[\"owner_name_blank_removed\"].isnull()]\n",
    "\n",
    "    return df"
   ]
  },
  {
   "cell_type": "code",
   "execution_count": 2,
   "id": "b3af17fa-ef48-468f-8ef1-ee58b47d7e01",
   "metadata": {},
   "outputs": [],
   "source": [
    "def remove_owner_name_filter_items(df, owner_name, owner_name_final, owner_name_filter):\n",
    "\n",
    "    owner_name_filter.append(\"\\d+\")\n",
    "\n",
    "    df = df[\n",
    "        ~df[[owner_name, owner_name_final]]\n",
    "        .apply(\n",
    "            lambda x: x.str.contains(\"|\".join(owner_name_filter), case=False, na=False)\n",
    "        )\n",
    "        .any(axis=1)\n",
    "    ].reset_index(drop=True)\n",
    "\n",
    "    return df"
   ]
  },
  {
   "cell_type": "code",
   "execution_count": 19,
   "id": "d7d11f09-f88e-4f5e-a395-3f3dd3636f93",
   "metadata": {},
   "outputs": [],
   "source": [
    "def add_comma_to_name_column(x):\n",
    "\n",
    "    if \",\" not in x:\n",
    "\n",
    "        return re.sub(r\"^([^\\s]*)\\s+\", r\"\\1, \", x)\n",
    "\n",
    "    else:\n",
    "        return x"
   ]
  },
  {
   "cell_type": "code",
   "execution_count": 5,
   "id": "aabb6397-aabc-416b-978d-21cf1e0033d4",
   "metadata": {},
   "outputs": [],
   "source": [
    "def clean_owner_name(df):\n",
    "\n",
    "    df[\"chosen_owner_name_to_process\"] = df[\"chosen_owner_name\"].str.replace(\n",
    "        \"et al|et. al.|etal| the \", \"\", regex=True, case=False\n",
    "    )\n",
    "\n",
    "    df[\"chosen_owner_name_to_process\"] = df[\"chosen_owner_name_to_process\"].apply(\n",
    "        lambda x: add_comma_to_name_column(x)\n",
    "    )\n",
    "\n",
    "    df[\"full_name\"] = df.chosen_owner_name_to_process.apply(lambda s: HumanName(s))\n",
    "\n",
    "    for index, row in df.iterrows():\n",
    "        row[\"full_name\"].capitalize()\n",
    "\n",
    "    df[\"format_name_dict\"] = df.full_name.astype(str).apply(\n",
    "        lambda s: HumanName(s).as_dict()\n",
    "    )\n",
    "    df[\"first_name\"] = df[\"format_name_dict\"].apply(lambda x: x.get(\"first\"))\n",
    "\n",
    "    df[\"last_name\"] = df[\"format_name_dict\"].apply(lambda x: x.get(\"last\"))\n",
    "\n",
    "    return df"
   ]
  }
 ],
 "metadata": {
  "kernelspec": {
   "display_name": "Python 3 (ipykernel)",
   "language": "python",
   "name": "python3"
  },
  "language_info": {
   "codemirror_mode": {
    "name": "ipython",
    "version": 3
   },
   "file_extension": ".py",
   "mimetype": "text/x-python",
   "name": "python",
   "nbconvert_exporter": "python",
   "pygments_lexer": "ipython3",
   "version": "3.10.8"
  }
 },
 "nbformat": 4,
 "nbformat_minor": 5
}
