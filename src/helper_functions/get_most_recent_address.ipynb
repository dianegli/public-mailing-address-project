{
 "cells": [
  {
   "cell_type": "code",
   "execution_count": 2,
   "id": "72f74ef2-1ed8-4379-a920-6a2cf11c609c",
   "metadata": {},
   "outputs": [],
   "source": [
    "def most_recent_address_table(df):\n",
    "\n",
    "    # Group by chosen owner name, and choose one row as the address to mail to based on ranked deed year. clean\n",
    "\n",
    "    df[\"chosen_record_id\"] = (\n",
    "        df.sort_values(\"deed_year_clean\", ascending=False)\n",
    "        .groupby(\"chosen_owner_name\")\n",
    "        .record_id.transform(\"first\")\n",
    "    )\n",
    "\n",
    "    # Group by owner name and get the max owner_with_improvement accounting for the different owner names\n",
    "\n",
    "    df[\"chosen_owner_with_improvement\"] = df.groupby(\n",
    "        \"chosen_owner_name\"\n",
    "    ).owner_with_improvement.transform(\"max\")\n",
    "\n",
    "    # Flag which row explictly is the mailing address row\n",
    "\n",
    "    df[\"mailing_address_flag\"] = np.where(\n",
    "        df[\"chosen_record_id\"] == df[\"record_id\"], 1, 0\n",
    "    )\n",
    "\n",
    "    return df"
   ]
  }
 ],
 "metadata": {
  "kernelspec": {
   "display_name": "Python 3 (ipykernel)",
   "language": "python",
   "name": "python3"
  },
  "language_info": {
   "codemirror_mode": {
    "name": "ipython",
    "version": 3
   },
   "file_extension": ".py",
   "mimetype": "text/x-python",
   "name": "python",
   "nbconvert_exporter": "python",
   "pygments_lexer": "ipython3",
   "version": "3.10.8"
  }
 },
 "nbformat": 4,
 "nbformat_minor": 5
}
