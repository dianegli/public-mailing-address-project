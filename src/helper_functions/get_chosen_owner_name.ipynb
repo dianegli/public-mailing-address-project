{
 "cells": [
  {
   "cell_type": "code",
   "execution_count": 1,
   "id": "a0a42eb1-8bdc-4713-907b-9b7339922725",
   "metadata": {},
   "outputs": [],
   "source": [
    "def address_owner_name_table(df,owner_name_final):\n",
    "\n",
    "    address_owner_name_table = (\n",
    "        df[[\"address_to_process\",owner_name_final]]\n",
    "      #  .drop_duplicates()\n",
    "        .sort_values([owner_name_final])\n",
    "        .groupby(\"address_to_process\")\n",
    "        .first()\n",
    "        .reset_index()\n",
    "        .rename(columns={owner_name_final: \"chosen_owner_name\"})\n",
    "    )\n",
    "\n",
    "    return address_owner_name_table"
   ]
  },
  {
   "cell_type": "code",
   "execution_count": null,
   "id": "f9cd3e5e-30a3-4949-b904-77aa28d0b6c4",
   "metadata": {},
   "outputs": [],
   "source": [
    "def merge_chosen_owner_name(df, address_owner_name_table):\n",
    "\n",
    "    df = df.merge(address_owner_name_table, how=\"left\", on=\"address_to_process\")\n",
    "\n",
    "    return df"
   ]
  }
 ],
 "metadata": {
  "kernelspec": {
   "display_name": "Python 3 (ipykernel)",
   "language": "python",
   "name": "python3"
  },
  "language_info": {
   "codemirror_mode": {
    "name": "ipython",
    "version": 3
   },
   "file_extension": ".py",
   "mimetype": "text/x-python",
   "name": "python",
   "nbconvert_exporter": "python",
   "pygments_lexer": "ipython3",
   "version": "3.10.8"
  }
 },
 "nbformat": 4,
 "nbformat_minor": 5
}
