{
 "cells": [
  {
   "cell_type": "code",
   "execution_count": 1,
   "id": "16e00534-a983-4690-9331-ca7a64dccbdf",
   "metadata": {},
   "outputs": [],
   "source": [
    "def create_address_to_process(df, address_final):\n",
    "\n",
    "    df[\"address_to_process\"] = (\n",
    "        df[address_final]\n",
    "        .fillna(\"\")\n",
    "        .agg(\", \".join, axis=1)\n",
    "        .str.replace(\"P O \", \"PO \")\n",
    "    )\n",
    "\n",
    "    return df"
   ]
  },
  {
   "cell_type": "code",
   "execution_count": null,
   "id": "c445577a-f1a5-4064-b140-2fcd4ee66267",
   "metadata": {},
   "outputs": [],
   "source": [
    "def usaddress_processor(x):\n",
    "\n",
    "    try:\n",
    "\n",
    "        return usaddress.tag(x)[0]\n",
    "\n",
    "    except:\n",
    "\n",
    "        return \"Error\""
   ]
  },
  {
   "cell_type": "code",
   "execution_count": null,
   "id": "c2af0414-f044-425c-9609-96ca6e18398d",
   "metadata": {},
   "outputs": [],
   "source": [
    "def get_address_dict_value(x, get_value=None):\n",
    "\n",
    "    if x == \"Error\":\n",
    "\n",
    "        return \"Error\"\n",
    "\n",
    "    else:\n",
    "        return x.get(get_value)"
   ]
  },
  {
   "cell_type": "code",
   "execution_count": null,
   "id": "4d1299d2-4c41-43ff-930e-c273f8944c82",
   "metadata": {},
   "outputs": [],
   "source": [
    "# Create function to make address portion of the cleaned full address\n",
    "\n",
    "key_to_remove = [\"PlaceName\", \"StateName\", \"ZipCode\", \"Recipient\", \"CountryName\"]\n",
    "\n",
    "\n",
    "def format_address_dict(x):\n",
    "\n",
    "    if x == \"Error\":\n",
    "\n",
    "        return \"Error\"\n",
    "\n",
    "    else:\n",
    "\n",
    "        copy_dict = copy.deepcopy(x)\n",
    "\n",
    "        for i in key_to_remove:\n",
    "\n",
    "            copy_dict.pop(i, None)\n",
    "\n",
    "            line = \" \".join(list(copy_dict.values()))\n",
    "\n",
    "        return line"
   ]
  },
  {
   "cell_type": "code",
   "execution_count": 6,
   "id": "6a673466-b8d9-4d6f-88b2-449cb01155c5",
   "metadata": {},
   "outputs": [],
   "source": [
    "def clean_address_to_process(df):\n",
    "\n",
    "    df[\"address_dict\"] = df.address_to_process.apply(\n",
    "        lambda x: usaddress_processor(x)\n",
    "    )\n",
    "\n",
    "    df[\"city\"] = df[\"address_dict\"].apply(\n",
    "        lambda x: get_address_dict_value(x, get_value=\"PlaceName\")\n",
    "    )\n",
    "\n",
    "    df[\"state\"] = df[\"address_dict\"].apply(\n",
    "        lambda x: get_address_dict_value(x, get_value=\"StateName\")\n",
    "    )\n",
    "\n",
    "    df[\"zip\"] = df[\"address_dict\"].apply(\n",
    "        lambda x: get_address_dict_value(x, get_value=\"ZipCode\")\n",
    "    )\n",
    "\n",
    "    df[\"zip\"] = df[\"zip\"].str[0:5]\n",
    "\n",
    "    df[\"address\"] = df[\"address_dict\"].apply(lambda x: format_address_dict(x))\n",
    "\n",
    "    return df"
   ]
  }
 ],
 "metadata": {
  "kernelspec": {
   "display_name": "Python 3 (ipykernel)",
   "language": "python",
   "name": "python3"
  },
  "language_info": {
   "codemirror_mode": {
    "name": "ipython",
    "version": 3
   },
   "file_extension": ".py",
   "mimetype": "text/x-python",
   "name": "python",
   "nbconvert_exporter": "python",
   "pygments_lexer": "ipython3",
   "version": "3.10.8"
  }
 },
 "nbformat": 4,
 "nbformat_minor": 5
}
