{
 "cells": [
  {
   "cell_type": "code",
   "execution_count": 3,
   "id": "4b206f65-eff2-462d-a35a-b3bb108138fd",
   "metadata": {},
   "outputs": [],
   "source": [
    "def clean_deed(df,deed):\n",
    "    \n",
    "    df[\"deed_year\"] = df[deed].astype(\"str\").replace(r\"[^0-9]+\", \"\", regex=True)\n",
    "    df[\"deed_year\"] = df.deed_year.replace(r\"^\\s*$\", \"0\", regex=True)\n",
    "        \n",
    "    df[\"deed_year_clean\"] = df[\"deed_year\"].astype('float')\n",
    "    \n",
    "    return df"
   ]
  }
 ],
 "metadata": {
  "kernelspec": {
   "display_name": "Python 3 (ipykernel)",
   "language": "python",
   "name": "python3"
  },
  "language_info": {
   "codemirror_mode": {
    "name": "ipython",
    "version": 3
   },
   "file_extension": ".py",
   "mimetype": "text/x-python",
   "name": "python",
   "nbconvert_exporter": "python",
   "pygments_lexer": "ipython3",
   "version": "3.10.8"
  }
 },
 "nbformat": 4,
 "nbformat_minor": 5
}
