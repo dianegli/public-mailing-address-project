{
 "cells": [
  {
   "cell_type": "code",
   "execution_count": null,
   "id": "bf6cf082-f371-4e86-af41-781a12ec837e",
   "metadata": {},
   "outputs": [],
   "source": [
    "def address_issue(df):\n",
    "\n",
    "    df[\"address_issue\"] = np.where(\n",
    "        (\n",
    "            df[[\"city\", \"state\", \"zip\"]]\n",
    "            .apply(lambda x: x.str.contains(r\"[^\\w\\s]|Error\", case=False, na=False))\n",
    "            .any(axis=1)\n",
    "        )\n",
    "        | (df[[\"address\", \"city\", \"state\", \"zip\"]].isnull().any(axis=1))\n",
    "        | (\n",
    "            df[[\"address\", \"city\", \"state\", \"zip\"]]\n",
    "            .apply(lambda x: x.str.contains(r\"^\\s*$\", case=False, na=False))\n",
    "            .any(axis=1)\n",
    "        ),\n",
    "        1,\n",
    "        0,\n",
    "    )\n",
    "\n",
    "    return df"
   ]
  },
  {
   "cell_type": "code",
   "execution_count": null,
   "id": "d3e7c50a-086f-42e1-a2d0-949da18f379d",
   "metadata": {},
   "outputs": [],
   "source": [
    "def owner_name_issue(df):\n",
    "\n",
    "    df[\"owner_name_issue\"] = np.where(\n",
    "        (\n",
    "            df[[\"first_name\", \"last_name\"]]\n",
    "            .apply(lambda x: x.str.contains(r\"[^a-zA-Z\\d\\s'-]\", case=False, na=False))\n",
    "            .any(axis=1)\n",
    "        )\n",
    "        | (df[[\"first_name\", \"last_name\"]].isnull().any(axis=1))\n",
    "        | (\n",
    "            df[[\"first_name\", \"last_name\"]]\n",
    "            .apply(lambda x: x.str.contains(r\"^\\s*$\", case=False, na=False))\n",
    "            .any(axis=1)\n",
    "        )\n",
    "        | (\n",
    "            df[[\"first_name\", \"last_name\"]]\n",
    "            .apply(lambda x: x.str.contains(r\"(?i)\\b[a-z]\\b\", case=False, na=False))\n",
    "            .any(axis=1)\n",
    "        ),\n",
    "        1,\n",
    "        0,\n",
    "    )\n",
    "\n",
    "    return df"
   ]
  },
  {
   "cell_type": "code",
   "execution_count": 1,
   "id": "193ca5f6-ffb4-4245-9701-35e2744d5ca0",
   "metadata": {},
   "outputs": [],
   "source": [
    "def trustee_co_issue(df):\n",
    "\n",
    "    # If there are more than one address column flagged with trustee or C/O in it, we will flag to add to manual review\n",
    "    # If there are flags for n_flags_trustee_co, flag as manual review\n",
    "\n",
    "    df.rename(columns={'n_flag_trustee_co':'trustee_co_issue'},inplace=True)\n",
    "\n",
    "    return df"
   ]
  }
 ],
 "metadata": {
  "kernelspec": {
   "display_name": "Python 3 (ipykernel)",
   "language": "python",
   "name": "python3"
  },
  "language_info": {
   "codemirror_mode": {
    "name": "ipython",
    "version": 3
   },
   "file_extension": ".py",
   "mimetype": "text/x-python",
   "name": "python",
   "nbconvert_exporter": "python",
   "pygments_lexer": "ipython3",
   "version": "3.10.8"
  }
 },
 "nbformat": 4,
 "nbformat_minor": 5
}
